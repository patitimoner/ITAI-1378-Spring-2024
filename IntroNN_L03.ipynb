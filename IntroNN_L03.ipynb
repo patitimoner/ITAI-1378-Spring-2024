{
 "cells": [
  {
   "cell_type": "code",
   "execution_count": null,
   "id": "fd0356f0-2c4c-423b-bf5b-6eb80689f6f4",
   "metadata": {},
   "outputs": [],
   "source": [
    "!pip install tensorflow\n",
    "!pip install matplotlib\n",
    "!pip install ipywidgets"
   ]
  },
  {
   "cell_type": "code",
   "execution_count": null,
   "id": "10aacc47-4921-46f5-97c2-c320212b8e90",
   "metadata": {
    "scrolled": true
   },
   "outputs": [],
   "source": [
    "# Import necessary libraries\n",
    "from tensorflow.keras.applications.vgg16 import VGG16, preprocess_input, decode_predictions\n",
    "from tensorflow.keras.preprocessing.image import load_img, img_to_array\n",
    "from IPython.display import display\n",
    "import numpy as np\n",
    "import matplotlib.pyplot as plt\n",
    "from PIL import Image, ImageFilter\n",
    "import io\n",
    "import ipywidgets as widgets\n"
   ]
  },
  {
   "cell_type": "markdown",
   "id": "03646f9c-ba2c-4ad8-b943-2c3b06ed8819",
   "metadata": {},
   "source": [
    "# Introduction\r\n",
    "This lab is designed to introduce you to the basics of deep learning by interacting with a pre-built model. You'll understand the workflow of a deep learning project, including data preprocessing, model architecture, and making predictions. The goal is to familiarize yourself with the basics of deep learning without writing any code.\r\n"
   ]
  },
  {
   "cell_type": "code",
   "execution_count": null,
   "id": "bf821093-9b9f-4d34-88fd-8c2e97b48d46",
   "metadata": {
    "scrolled": true
   },
   "outputs": [],
   "source": [
    "# Load the VGG16 model\n",
    "model = VGG16(weights='imagenet')\n",
    "\n",
    "# Display the model architecture\n",
    "model.summary()\n"
   ]
  },
  {
   "cell_type": "code",
   "execution_count": null,
   "id": "3bf514ea-e70b-401d-b9fa-9a8bb37bb674",
   "metadata": {},
   "outputs": [],
   "source": [
    "# Load and preprocess an image\n",
    "def load_and_preprocess_image(image_path):\n",
    "    # Load the image\n",
    "    img = load_img(image_path, target_size=(224, 224))\n",
    "\n",
    "    # Convert the image to a numpy array\n",
    "    img_array = img_to_array(img)\n",
    "\n",
    "    # Expand dimensions to fit the model input\n",
    "    img_array = np.expand_dims(img_array, axis=0)\n",
    "\n",
    "    # Preprocess the image\n",
    "    img_array = preprocess_input(img_array)\n",
    "\n",
    "    return img, img_array\n",
    "\n",
    "# Load and preprocess a sample image\n",
    "sample_image, processed_image = load_and_preprocess_image('/path/to/your/images/Ziggy_jeans.jpg')\n",
    "\n",
    "# Display the sample image\n",
    "plt.imshow(sample_image)\n",
    "plt.show()\n"
   ]
  },
  {
   "cell_type": "markdown",
   "id": "b2e33438-d8ff-41bd-9056-ca6fe69d9a82",
   "metadata": {},
   "source": [
    "## Step 4: Making Predictions\r\n",
    "\r\n",
    "In this step, you will learn how to use a pre-trained VGG16 model to make predictions on new data — specifically, images that you upload. This process involves several stages, including uploading your image, preprocessing it to meet the model's input requirements, and finally, using the model to predict what the image represents.\r\n",
    "\r\n",
    "### 4.1. Uploading an Image\r\n",
    "\r\n",
    "To make predictions, the model first needs an input image. This is where the interactive widget comes into play:\r\n",
    "\r\n",
    "- **Upload Button**: You will see an upload button labeled 'Upload Image'. Clicking this button will open your file explorer.\r\n",
    "- **Selecting Image**: Navigate through your files and select the image you want to analyze. The accepted formats usually include JPEG, PNG, and others, depending on the configuration.\r\n",
    "- **Uploading**: After selecting the image, it will be uploaded and stored in a temporary location in this notebook's environment for processing.\r\n",
    "\r\n",
    "### 4.2. Image Preprocessing\r\n",
    "\r\n",
    "The uploaded image needs to be preprocessed to ensure compatibility with the VGG16 model. This preprocessing involves several steps:\r\n",
    "\r\n",
    "1. **Reading the Image**: The uploaded image is read into the notebook as a data stream and then converted into a format that the model can process (typically, a numerical array).\r\n",
    "2. **Resizing**: VGG16 requires input images to be of a specific size (224x224 pixels). If your uploaded image is of a different size, it will be resized.\r\n",
    "3. **Color Channels Adjustment**: The model expects images to have three color channels (Red, Green, Blue). If the uploaded image has a different format (like grayscale), it will be adjusted accordingly.\r\n",
    "4. **Array Conversion and Dimension Expansion**: The image is then converted into a multi-dimensional array (a format that the neural network can process), and dimensions are added or expanded to match the input shape that the model expects.\r\n",
    "5. **Normalization**: Finally, pixel values are normalized or scaled to a range that the model is trained on, usually [0, 1] or [-1, 1], depending on the specific preprocessing requirements of the VGG16 model.\r\n",
    "\r\n",
    "After these preprocessing steps, your image is ready to be fed into the model for prediction.\r\n",
    "\r\n",
    "In the next section, you'll learn how the model uses this preprocessed image to predict the content of the image.\r\n"
   ]
  },
  {
   "cell_type": "code",
   "execution_count": null,
   "id": "8ee2d066-4c0e-4b28-ac6b-92e429d6db9d",
   "metadata": {},
   "outputs": [],
   "source": [
    "# Make predictions\n",
    "predictions = model.predict(processed_image)\n",
    "\n",
    "# Decode and print the predictions\n",
    "decoded_predictions = decode_predictions(predictions, top=3)[0]\n",
    "print(decoded_predictions)\n"
   ]
  },
  {
   "cell_type": "markdown",
   "id": "5fd756f3-63e1-4917-9959-1312e7dd7b6b",
   "metadata": {},
   "source": [
    "## Step 5: Understanding Predictions\r\n",
    "\r\n",
    "After making predictions in the previous step, you now have a chance to dive deeper into the model's behavior. In this step, you will explore how slight modifications to the input image (like rotation, adding noise, or changing brightness) can affect the model's predictions. This process helps in understanding the robustness and sensitivity of the neural network.\r\n",
    "\r\n",
    "### 5.1. Observing Model Predictions\r\n",
    "\r\n",
    "Initially, you will observe the predictions made by the model on the uploaded image. The model provides a set of predictions, each with a corresponding probability score indicating the model's confidence in its prediction. For example:\r\n",
    "\r\n",
    "- **Prediction 1**: 'Labrador Retriever' with a confidence of 94.5%\r\n",
    "- **Prediction 2**: 'Golden Retriever' with a confidence of 5.0%\r\n",
    "- **Prediction 3**: 'Beagle' with a confidence of 0.5%\r\n",
    "\r\n",
    "These predictions give you a glimpse into what the model 'sees' in the image.\r\n",
    "\r\n",
    "### 5.2. Experimenting with Image Modifications\r\n",
    "\r\n",
    "Understanding a model's predictions goes beyond just seeing what it predicts; it's also about understanding how certain changes to the input can alter these predictions. This section involves interacting with different image modifications:\r\n",
    "\r\n",
    "1. **Rotation**: Rotate the image by a certain degree. Observe how rotating the image affects the predictions. Does the model still recognize the object correctly?\r\n",
    "2. **Adding Noise**: Introduce random visual noise to the image. This can help you understand how noise-tolerant the model is.\r\n",
    "3. **Brightness Adjustment**: Change the brightness of the image. This helps in understanding if the model's predictions are sensitive to changes in lighting conditions.\r\n",
    "\r\n",
    "For each modification, you will:\r\n",
    "\r\n",
    "- Apply the modification to the uploaded image.\r\n",
    "- Use the model to make new predictions on the modified image.\r\n",
    "- Observe how the predictions change in response to the modifications.\r\n",
    "\r\n",
    "### 5.3. Reflection and Analysis\r\n",
    "\r\n",
    "After observing how the model's predictions change with different image modifications, reflect on the following questions:\r\n",
    "\r\n",
    "- How robust is the model to changes in the input image?\r\n",
    "- Which types of modifications affect the model's predictions the most?\r\n",
    "- What does this tell you about the features that the model is focusing on when making predictions?\r\n",
    "\r\n",
    "This step is crucial in understanding not just what a model sees, but also how stable and reliable its 'vision' is under various conditions. It encourages a deeper understanding of the model's capabilities and limitations.\r\n"
   ]
  },
  {
   "cell_type": "code",
   "execution_count": null,
   "id": "f2fdad88-630d-4755-9e30-5eb7cf502e5c",
   "metadata": {},
   "outputs": [],
   "source": [
    "# Upload button to load images\n",
    "upload = widgets.FileUpload()\n",
    "display(upload)\n",
    "\n",
    "# Button to make predictions\n",
    "predict_button = widgets.Button(description=\"Make Prediction\")\n",
    "display(predict_button)\n",
    "\n",
    "# Function to handle button click\n",
    "def on_click(change):\n",
    "    img_data = list(upload.value.values())[0]['content']\n",
    "    img = Image.open(io.BytesIO(img_data))\n",
    "    img = img.resize((224, 224))\n",
    "    \n",
    "    # Preprocess and predict\n",
    "    img_array = img_to_array(img)\n",
    "    img_array = np.expand_dims(img_array, axis=0)\n",
    "    img_array = preprocess_input(img_array)\n",
    "    predictions = model.predict(img_array)\n",
    "    decoded_predictions = decode_predictions(predictions, top=3)[0]\n",
    "    \n",
    "    # Display predictions\n",
    "    print(decoded_predictions)\n",
    "\n",
    "predict_button.on_click(on_click)\n"
   ]
  },
  {
   "cell_type": "markdown",
   "id": "aae7f590-2852-4597-85f4-f4cc7d432894",
   "metadata": {},
   "source": [
    "# Conclusion and Discussion\n",
    "Reflect on the lab activities. Discuss how the pre-trained model was able to make predictions, the role of data preprocessing, and the impact of input modifications on the model's predictions.\n"
   ]
  }
 ],
 "metadata": {
  "kernelspec": {
   "display_name": "Python 3 (ipykernel)",
   "language": "python",
   "name": "python3"
  },
  "language_info": {
   "codemirror_mode": {
    "name": "ipython",
    "version": 3
   },
   "file_extension": ".py",
   "mimetype": "text/x-python",
   "name": "python",
   "nbconvert_exporter": "python",
   "pygments_lexer": "ipython3",
   "version": "3.11.7"
  }
 },
 "nbformat": 4,
 "nbformat_minor": 5
}
